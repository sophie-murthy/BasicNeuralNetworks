{
 "cells": [
  {
   "cell_type": "code",
   "execution_count": 1,
   "metadata": {},
   "outputs": [
    {
     "name": "stderr",
     "output_type": "stream",
     "text": [
      "2023-06-09 13:18:04.328776: I tensorflow/core/platform/cpu_feature_guard.cc:182] This TensorFlow binary is optimized to use available CPU instructions in performance-critical operations.\n",
      "To enable the following instructions: AVX2 FMA, in other operations, rebuild TensorFlow with the appropriate compiler flags.\n"
     ]
    }
   ],
   "source": [
    "import numpy as np\n",
    "import matplotlib.pyplot as plt\n",
    "from tensorflow.keras.datasets import mnist"
   ]
  },
  {
   "cell_type": "code",
   "execution_count": 2,
   "metadata": {},
   "outputs": [],
   "source": [
    "def load_mnist():\n",
    "    (x_train, y_train), (x_test, y_test) = mnist.load_data()\n",
    "    x_train = x_train.reshape(-1, 784)\n",
    "    x_train = x_train / 255.0\n",
    "    x_test = x_test.reshape(-1, 784)\n",
    "    x_test = x_test / 255.0\n",
    "    return x_train, y_train, x_test, y_test"
   ]
  },
  {
   "cell_type": "code",
   "execution_count": 3,
   "metadata": {},
   "outputs": [],
   "source": [
    "def one_hot(labels):\n",
    "    num_classes = np.max(labels) + 1\n",
    "    encoded_labels = np.eye(num_classes)[labels]\n",
    "    return encoded_labels"
   ]
  },
  {
   "cell_type": "code",
   "execution_count": 4,
   "metadata": {},
   "outputs": [],
   "source": [
    "class NeuralNetwork:\n",
    "\n",
    "    def __init__(self):\n",
    "        self.hidden_units = 256\n",
    "        self.num_classes = 10\n",
    "        self.learning_rate = 0.01\n",
    "        self.steps = 2000\n",
    "\n",
    "        self.W1 = np.random.randn(784, self.hidden_units) * 0.01\n",
    "        self.b1 = np.random.randn(self.hidden_units)\n",
    "        self.W2 = np.random.randn(self.hidden_units, self.num_classes) * 0.01\n",
    "        self.b2 = np.random.randn(self.num_classes)\n",
    "\n",
    "        self.loss_history = np.zeros(self.steps)\n",
    "\n",
    "    def softmax(self, z):\n",
    "        exp = np.exp(z - np.max(z, axis=1, keepdims=True))\n",
    "        return exp / np.sum(exp, axis=1, keepdims=True)\n",
    "\n",
    "    def relu(self, z):\n",
    "        return np.maximum(0, z)\n",
    "\n",
    "    def d_relu(self, z):\n",
    "        return np.array(z > 0, dtype = np.float32)\n",
    "\n",
    "    def forward(self, X):\n",
    "        z1 = np.dot(X, self.W1) + self.b1\n",
    "        a1 = self.relu(z1)\n",
    "\n",
    "        z2 = np.dot(a1, self.W2) + self.b2\n",
    "        prob = self.softmax(z2)\n",
    "\n",
    "        return prob, a1\n",
    "\n",
    "    def loss(self, X, y):\n",
    "        prob, a1 = self.forward(X)\n",
    "        m = y.shape[0]\n",
    "        loss = -np.sum(y * np.log(prob + 1e-8)) / m\n",
    "        return loss\n",
    "\n",
    "    def train(self, X, y):\n",
    "        m = X.shape[0]\n",
    "        \n",
    "        for i in range(self.steps):\n",
    "            prob, a1 = self.forward(X)\n",
    "\n",
    "            dZ2 = prob - y\n",
    "            dW2 = np.dot(a1.T, dZ2) / m\n",
    "            db2 = np.mean(dZ2, axis=0)\n",
    "            dZ1 = np.dot(dZ2, self.W2.T) * self.d_relu(a1)\n",
    "            dW1 = np.dot(X.T, dZ1) / m\n",
    "            db1 = np.mean(dZ1, axis=0)\n",
    "\n",
    "            self.W2 -= self.learning_rate * dW2\n",
    "            self.b2 -= self.learning_rate * db2\n",
    "            self.W1 -= self.learning_rate * dW1\n",
    "            self.b1 -= self.learning_rate * db1\n",
    "\n",
    "            loss = self.loss(X, y)\n",
    "            self.loss_history[i] = loss\n",
    "    \n",
    "    def predict(self, X):\n",
    "        probabilities, a1  = self.forward(X)\n",
    "        predictions = np.argmax(probabilities, axis=1)\n",
    "        return predictions\n",
    "    \n",
    "    def accuracy(self, X, y):\n",
    "        prob, a1 = self.forward(X)\n",
    "        pred = np.argmax(prob, 1)\n",
    "        y1 = np.argmax(y, 1)\n",
    "        accuracy = np.mean(pred == y1)\n",
    "        return accuracy\n",
    "\n",
    "    "
   ]
  },
  {
   "cell_type": "code",
   "execution_count": 5,
   "metadata": {},
   "outputs": [],
   "source": [
    "model = NeuralNetwork()\n",
    "\n",
    "x_train, y_train, x_test, y_test = load_mnist()\n",
    "y1 = y_train\n",
    "y_train = one_hot(y_train)\n",
    "y2 = y_test\n",
    "y_test = one_hot(y_test)"
   ]
  },
  {
   "cell_type": "code",
   "execution_count": 6,
   "metadata": {},
   "outputs": [],
   "source": [
    "model.train(x_train, y_train)"
   ]
  },
  {
   "cell_type": "code",
   "execution_count": 7,
   "metadata": {},
   "outputs": [
    {
     "data": {
      "image/png": "[encoded data removed]",
      "text/plain": [
       "<Figure size 640x480 with 1 Axes>"
      ]
     },
     "metadata": {},
     "output_type": "display_data"
    }
   ],
   "source": [
    "plt.plot(range(len(model.loss_history)), model.loss_history)\n",
    "plt.xlabel('Iteration')\n",
    "plt.ylabel('Loss')\n",
    "plt.title('Loss History')\n",
    "plt.show()"
   ]
  },
  {
   "cell_type": "code",
   "execution_count": 8,
   "metadata": {},
   "outputs": [
    {
     "data": {
      "text/plain": [
       "0.8758666666666667"
      ]
     },
     "execution_count": 8,
     "metadata": {},
     "output_type": "execute_result"
    }
   ],
   "source": [
    "model.accuracy(x_train, y_train)"
   ]
  },
  {
   "cell_type": "code",
   "execution_count": 9,
   "metadata": {},
   "outputs": [
    {
     "data": {
      "text/plain": [
       "0.8808"
      ]
     },
     "execution_count": 9,
     "metadata": {},
     "output_type": "execute_result"
    }
   ],
   "source": [
    "model.accuracy(x_test, y_test)"
   ]
  },
  {
   "cell_type": "code",
   "execution_count": 10,
   "metadata": {},
   "outputs": [
    {
     "name": "stdout",
     "output_type": "stream",
     "text": [
      "0.44974491247376575\n"
     ]
    }
   ],
   "source": [
    "print(model.loss(x_test, y_test))"
   ]
  }
 ],
 "metadata": {
  "interpreter": {
   "hash": "aee8b7b246df8f9039afb4144a1f6fd8d2ca17a180786b69acc140d282b71a49"
  },
  "kernelspec": {
   "display_name": "Python 3.10.0 64-bit",
   "language": "python",
   "name": "python3"
  },
  "language_info": {
   "codemirror_mode": {
    "name": "ipython",
    "version": 3
   },
   "file_extension": ".py",
   "mimetype": "text/x-python",
   "name": "python",
   "nbconvert_exporter": "python",
   "pygments_lexer": "ipython3",
   "version": "3.10.0"
  },
  "orig_nbformat": 4
 },
 "nbformat": 4,
 "nbformat_minor": 2
}
