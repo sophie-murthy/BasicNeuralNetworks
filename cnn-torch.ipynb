{
 "cells": [
  {
   "cell_type": "code",
   "execution_count": 6,
   "metadata": {},
   "outputs": [],
   "source": [
    "import numpy as np\n",
    "import torch\n",
    "import matplotlib.pyplot as plt\n",
    "from torchvision import datasets, transforms\n",
    "from torch.utils.data import DataLoader\n",
    "import torch.nn as nn\n",
    "from torch import optim\n",
    "from torch.autograd import Variable"
   ]
  },
  {
   "cell_type": "code",
   "execution_count": 7,
   "metadata": {},
   "outputs": [],
   "source": [
    "def load_mnist():\n",
    "    train = datasets.MNIST(root='./data', train=True, download=True, transform=transforms.ToTensor())\n",
    "    test = datasets.MNIST(root='./data', train=False, download=True, transform=transforms.ToTensor())\n",
    "    return train, test"
   ]
  },
  {
   "cell_type": "code",
   "execution_count": 8,
   "metadata": {},
   "outputs": [],
   "source": [
    "train, test = load_mnist()"
   ]
  },
  {
   "cell_type": "code",
   "execution_count": 9,
   "metadata": {},
   "outputs": [],
   "source": [
    "#plot image in dataset\n",
    "\n",
    "#plt.imshow(train.data[4], cmap='gray')\n",
    "#plt.title('%i' % train.targets[4])\n",
    "#plt.show()"
   ]
  },
  {
   "cell_type": "code",
   "execution_count": 10,
   "metadata": {},
   "outputs": [],
   "source": [
    "loaders = {'train': DataLoader(train, batch_size=100, shuffle=True, num_workers=1), 'test': DataLoader(test, batch_size=100, shuffle=False, num_workers=1)}"
   ]
  },
  {
   "cell_type": "code",
   "execution_count": 11,
   "metadata": {},
   "outputs": [],
   "source": [
    "class CNN(nn.Module):\n",
    "    def __init__(self):\n",
    "        super(CNN, self).__init__()\n",
    "\n",
    "        self.conv1 = nn.Sequential(nn.Conv2d(1, 16, kernel_size=5, stride = 1, padding=2), nn.ReLU(), nn.MaxPool2d(2))\n",
    "        self.conv2 = nn.Sequential(nn.Conv2d(16, 32, kernel_size=5, stride = 1, padding=2), nn.ReLU(), nn.MaxPool2d(2))\n",
    "\n",
    "        self.out = nn.Linear(32 * 7 * 7, 10)\n",
    "\n",
    "    def forward(self, x):\n",
    "        x = self.conv1(x)\n",
    "        x = self.conv2(x)\n",
    "\n",
    "        x = x.view(x.size(0), -1)\n",
    "        output = self.out(x)\n",
    "        return output, x"
   ]
  },
  {
   "cell_type": "code",
   "execution_count": 12,
   "metadata": {},
   "outputs": [],
   "source": [
    "cnn = CNN()\n",
    "loss_func = nn.CrossEntropyLoss()\n",
    "optimizer = optim.Adam(cnn.parameters(), lr=0.01)\n",
    "n_epochs = 10"
   ]
  },
  {
   "cell_type": "code",
   "execution_count": 13,
   "metadata": {},
   "outputs": [],
   "source": [
    "def train(n_epochs, cnn, loaders):\n",
    "    cnn.train()\n",
    "    total_step = len(loaders['train'])\n",
    "    for epoch in range(n_epochs):\n",
    "        for i, (images, labels) in enumerate(loaders['train']):\n",
    "            \n",
    "            images = Variable(images)\n",
    "            labels = Variable(labels)\n",
    "\n",
    "            optimizer.zero_grad()\n",
    "            outputs, _ = cnn(images)\n",
    "            loss = loss_func(outputs, labels)\n",
    "            loss.backward()\n",
    "            optimizer.step()\n",
    "\n",
    "            if (i + 1) % 100 == 0:\n",
    "                print('Epoch [{}/{}], Step [{}/{}], Loss: {:.4f}'.format(epoch + 1, n_epochs, i + 1, total_step, loss.item()))"
   ]
  },
  {
   "cell_type": "code",
   "execution_count": 14,
   "metadata": {},
   "outputs": [
    {
     "name": "stdout",
     "output_type": "stream",
     "text": [
      "Epoch [1/10], Step [100/600], Loss: 0.1288\n",
      "Epoch [1/10], Step [200/600], Loss: 0.0368\n",
      "Epoch [1/10], Step [300/600], Loss: 0.1130\n",
      "Epoch [1/10], Step [400/600], Loss: 0.1208\n",
      "Epoch [1/10], Step [500/600], Loss: 0.0446\n",
      "Epoch [1/10], Step [600/600], Loss: 0.0675\n",
      "Epoch [2/10], Step [100/600], Loss: 0.0150\n",
      "Epoch [2/10], Step [200/600], Loss: 0.1128\n",
      "Epoch [2/10], Step [300/600], Loss: 0.0130\n",
      "Epoch [2/10], Step [400/600], Loss: 0.0567\n",
      "Epoch [2/10], Step [500/600], Loss: 0.0518\n",
      "Epoch [2/10], Step [600/600], Loss: 0.0200\n",
      "Epoch [3/10], Step [100/600], Loss: 0.0479\n",
      "Epoch [3/10], Step [200/600], Loss: 0.0443\n",
      "Epoch [3/10], Step [300/600], Loss: 0.0436\n",
      "Epoch [3/10], Step [400/600], Loss: 0.0177\n",
      "Epoch [3/10], Step [500/600], Loss: 0.0324\n",
      "Epoch [3/10], Step [600/600], Loss: 0.0031\n",
      "Epoch [4/10], Step [100/600], Loss: 0.0857\n",
      "Epoch [4/10], Step [200/600], Loss: 0.0436\n",
      "Epoch [4/10], Step [300/600], Loss: 0.0845\n",
      "Epoch [4/10], Step [400/600], Loss: 0.0620\n",
      "Epoch [4/10], Step [500/600], Loss: 0.0163\n",
      "Epoch [4/10], Step [600/600], Loss: 0.0176\n",
      "Epoch [5/10], Step [100/600], Loss: 0.0206\n",
      "Epoch [5/10], Step [200/600], Loss: 0.0083\n",
      "Epoch [5/10], Step [300/600], Loss: 0.0189\n",
      "Epoch [5/10], Step [400/600], Loss: 0.0121\n",
      "Epoch [5/10], Step [500/600], Loss: 0.0492\n",
      "Epoch [5/10], Step [600/600], Loss: 0.0028\n",
      "Epoch [6/10], Step [100/600], Loss: 0.0254\n",
      "Epoch [6/10], Step [200/600], Loss: 0.0398\n",
      "Epoch [6/10], Step [300/600], Loss: 0.0354\n",
      "Epoch [6/10], Step [400/600], Loss: 0.0153\n",
      "Epoch [6/10], Step [500/600], Loss: 0.0027\n",
      "Epoch [6/10], Step [600/600], Loss: 0.0077\n",
      "Epoch [7/10], Step [100/600], Loss: 0.0030\n",
      "Epoch [7/10], Step [200/600], Loss: 0.0261\n",
      "Epoch [7/10], Step [300/600], Loss: 0.0929\n",
      "Epoch [7/10], Step [400/600], Loss: 0.0440\n",
      "Epoch [7/10], Step [500/600], Loss: 0.0040\n",
      "Epoch [7/10], Step [600/600], Loss: 0.0049\n",
      "Epoch [8/10], Step [100/600], Loss: 0.0031\n",
      "Epoch [8/10], Step [200/600], Loss: 0.0033\n",
      "Epoch [8/10], Step [300/600], Loss: 0.0064\n",
      "Epoch [8/10], Step [400/600], Loss: 0.0089\n",
      "Epoch [8/10], Step [500/600], Loss: 0.0105\n",
      "Epoch [8/10], Step [600/600], Loss: 0.0772\n",
      "Epoch [9/10], Step [100/600], Loss: 0.0113\n",
      "Epoch [9/10], Step [200/600], Loss: 0.0229\n",
      "Epoch [9/10], Step [300/600], Loss: 0.0019\n",
      "Epoch [9/10], Step [400/600], Loss: 0.0015\n",
      "Epoch [9/10], Step [500/600], Loss: 0.0100\n",
      "Epoch [9/10], Step [600/600], Loss: 0.0261\n",
      "Epoch [10/10], Step [100/600], Loss: 0.0274\n",
      "Epoch [10/10], Step [200/600], Loss: 0.0286\n",
      "Epoch [10/10], Step [300/600], Loss: 0.0045\n",
      "Epoch [10/10], Step [400/600], Loss: 0.0491\n",
      "Epoch [10/10], Step [500/600], Loss: 0.0126\n",
      "Epoch [10/10], Step [600/600], Loss: 0.0127\n"
     ]
    }
   ],
   "source": [
    "train(n_epochs, cnn, loaders)"
   ]
  },
  {
   "cell_type": "code",
   "execution_count": 15,
   "metadata": {},
   "outputs": [],
   "source": [
    "def test():\n",
    "    cnn.eval()\n",
    "   \n",
    "    with torch.no_grad():\n",
    "        correct = 0\n",
    "        total = 0\n",
    "        for images, labels in loaders['test']:\n",
    "            images = Variable(images)\n",
    "            outputs, _ = cnn(images)\n",
    "            _, predicted = torch.max(outputs.data, 1)\n",
    "            total += labels.size(0)\n",
    "            correct += (predicted == labels).sum()\n",
    "\n",
    "        print('Test Accuracy: {} %'.format(100 * correct / total))"
   ]
  },
  {
   "cell_type": "code",
   "execution_count": 16,
   "metadata": {},
   "outputs": [
    {
     "name": "stdout",
     "output_type": "stream",
     "text": [
      "Test Accuracy: 98.70999908447266 %\n"
     ]
    }
   ],
   "source": [
    "test()"
   ]
  }
 ],
 "metadata": {
  "kernelspec": {
   "display_name": "Python 3",
   "language": "python",
   "name": "python3"
  },
  "language_info": {
   "codemirror_mode": {
    "name": "ipython",
    "version": 3
   },
   "file_extension": ".py",
   "mimetype": "text/x-python",
   "name": "python",
   "nbconvert_exporter": "python",
   "pygments_lexer": "ipython3",
   "version": "3.10.0"
  },
  "orig_nbformat": 4
 },
 "nbformat": 4,
 "nbformat_minor": 2
}
