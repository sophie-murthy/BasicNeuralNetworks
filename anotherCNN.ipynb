{
 "cells": [
  {
   "cell_type": "code",
   "execution_count": 181,
   "metadata": {},
   "outputs": [],
   "source": [
    "import torch"
   ]
  },
  {
   "cell_type": "code",
   "execution_count": 182,
   "metadata": {},
   "outputs": [
    {
     "data": {
      "text/plain": [
       "device(type='cpu')"
      ]
     },
     "execution_count": 182,
     "metadata": {},
     "output_type": "execute_result"
    }
   ],
   "source": [
    "# Device configuration\n",
    "device = torch.device('cuda' if torch.cuda.is_available() else 'cpu')\n",
    "device"
   ]
  },
  {
   "cell_type": "code",
   "execution_count": 183,
   "metadata": {},
   "outputs": [],
   "source": [
    "from torchvision import datasets\n",
    "from torchvision.transforms import ToTensor\n",
    "train_data = datasets.MNIST(\n",
    "    root = 'data',\n",
    "    train = True,                         \n",
    "    transform = ToTensor(), \n",
    "    download = True,            \n",
    ")\n",
    "test_data = datasets.MNIST(\n",
    "    root = 'data', \n",
    "    train = False, \n",
    "    transform = ToTensor()\n",
    ")"
   ]
  },
  {
   "cell_type": "code",
   "execution_count": 184,
   "metadata": {},
   "outputs": [
    {
     "name": "stdout",
     "output_type": "stream",
     "text": [
      "Dataset MNIST\n",
      "    Number of datapoints: 60000\n",
      "    Root location: data\n",
      "    Split: Train\n",
      "    StandardTransform\n",
      "Transform: ToTensor()\n"
     ]
    }
   ],
   "source": [
    "print(train_data)"
   ]
  },
  {
   "cell_type": "code",
   "execution_count": 185,
   "metadata": {},
   "outputs": [
    {
     "data": {
      "image/png": "[encoded data removed]",
      "text/plain": [
       "<Figure size 640x480 with 1 Axes>"
      ]
     },
     "metadata": {},
     "output_type": "display_data"
    }
   ],
   "source": [
    "import matplotlib.pyplot as plt\n",
    "plt.imshow(train_data.data[0], cmap='gray')\n",
    "plt.title('%i' % train_data.targets[0])\n",
    "plt.show()"
   ]
  },
  {
   "cell_type": "code",
   "execution_count": 186,
   "metadata": {},
   "outputs": [
    {
     "data": {
      "text/plain": [
       "{'train': <torch.utils.data.dataloader.DataLoader at 0x14efec1d0>,\n",
       " 'test': <torch.utils.data.dataloader.DataLoader at 0x163690350>}"
      ]
     },
     "execution_count": 186,
     "metadata": {},
     "output_type": "execute_result"
    }
   ],
   "source": [
    "from torch.utils.data import DataLoader\n",
    "loaders = {\n",
    "    'train' : torch.utils.data.DataLoader(train_data, \n",
    "                                          batch_size=100, \n",
    "                                          shuffle=True, \n",
    "                                          num_workers=1),\n",
    "    \n",
    "    'test'  : torch.utils.data.DataLoader(test_data, \n",
    "                                          batch_size=100, \n",
    "                                          shuffle=True, \n",
    "                                          num_workers=1),\n",
    "}\n",
    "loaders"
   ]
  },
  {
   "cell_type": "code",
   "execution_count": 187,
   "metadata": {},
   "outputs": [],
   "source": [
    "import torch.nn as nn\n",
    "class CNN(nn.Module):\n",
    "    def __init__(self):\n",
    "        super(CNN, self).__init__()\n",
    "        self.conv1 = nn.Sequential(         \n",
    "            nn.Conv2d(\n",
    "                in_channels=1,              \n",
    "                out_channels=16,            \n",
    "                kernel_size=5,              \n",
    "                stride=1,                   \n",
    "                padding=2,                  \n",
    "            ),                              \n",
    "            nn.ReLU(),                      \n",
    "            nn.MaxPool2d(kernel_size=2),    \n",
    "        )\n",
    "        self.conv2 = nn.Sequential(         \n",
    "            nn.Conv2d(16, 32, 5, 1, 2),     \n",
    "            nn.ReLU(),                      \n",
    "            nn.MaxPool2d(2),                \n",
    "        )\n",
    "        # fully connected layer, output 10 classes\n",
    "        self.out = nn.Linear(32 * 7 * 7, 10)\n",
    "    def forward(self, x):\n",
    "        x = self.conv1(x)\n",
    "        x = self.conv2(x)\n",
    "        # flatten the output of conv2 to (batch_size, 32 * 7 * 7)\n",
    "        x = x.view(x.size(0), -1)       \n",
    "        output = self.out(x)\n",
    "        return output, x    # return x for visualization"
   ]
  },
  {
   "cell_type": "code",
   "execution_count": 188,
   "metadata": {},
   "outputs": [
    {
     "name": "stdout",
     "output_type": "stream",
     "text": [
      "CNN(\n",
      "  (conv1): Sequential(\n",
      "    (0): Conv2d(1, 16, kernel_size=(5, 5), stride=(1, 1), padding=(2, 2))\n",
      "    (1): ReLU()\n",
      "    (2): MaxPool2d(kernel_size=2, stride=2, padding=0, dilation=1, ceil_mode=False)\n",
      "  )\n",
      "  (conv2): Sequential(\n",
      "    (0): Conv2d(16, 32, kernel_size=(5, 5), stride=(1, 1), padding=(2, 2))\n",
      "    (1): ReLU()\n",
      "    (2): MaxPool2d(kernel_size=2, stride=2, padding=0, dilation=1, ceil_mode=False)\n",
      "  )\n",
      "  (out): Linear(in_features=1568, out_features=10, bias=True)\n",
      ")\n"
     ]
    }
   ],
   "source": [
    "cnn = CNN()\n",
    "print(cnn)"
   ]
  },
  {
   "cell_type": "code",
   "execution_count": 189,
   "metadata": {},
   "outputs": [
    {
     "data": {
      "text/plain": [
       "CrossEntropyLoss()"
      ]
     },
     "execution_count": 189,
     "metadata": {},
     "output_type": "execute_result"
    }
   ],
   "source": [
    "loss_func = nn.CrossEntropyLoss()   \n",
    "loss_func"
   ]
  },
  {
   "cell_type": "code",
   "execution_count": 190,
   "metadata": {},
   "outputs": [
    {
     "data": {
      "text/plain": [
       "Adam (\n",
       "Parameter Group 0\n",
       "    amsgrad: False\n",
       "    betas: (0.9, 0.999)\n",
       "    capturable: False\n",
       "    differentiable: False\n",
       "    eps: 1e-08\n",
       "    foreach: None\n",
       "    fused: None\n",
       "    lr: 0.01\n",
       "    maximize: False\n",
       "    weight_decay: 0\n",
       ")"
      ]
     },
     "execution_count": 190,
     "metadata": {},
     "output_type": "execute_result"
    }
   ],
   "source": [
    "from torch import optim\n",
    "optimizer = optim.Adam(cnn.parameters(), lr = 0.01)   \n",
    "optimizer"
   ]
  },
  {
   "cell_type": "code",
   "execution_count": 191,
   "metadata": {},
   "outputs": [],
   "source": [
    "from torch.autograd import Variable\n",
    "num_epochs = 10\n",
    "def train(num_epochs, cnn, loaders):\n",
    "    \n",
    "    cnn.train()\n",
    "    # create loss history\n",
    "    loss_history = []\n",
    "        \n",
    "    # Train the model\n",
    "    total_step = len(loaders['train'])\n",
    "        \n",
    "    for epoch in range(num_epochs):\n",
    "        for i, (images, labels) in enumerate(loaders['train']):\n",
    "            \n",
    "            # gives batch data, normalize x when iterate train_loader\n",
    "            b_x = Variable(images)   # batch x\n",
    "            b_y = Variable(labels)   # batch y\n",
    "            output = cnn(b_x)[0]               \n",
    "            loss = loss_func(output, b_y)\n",
    "            loss_history.append(loss.item())\n",
    "            \n",
    "            # clear gradients for this training step   \n",
    "            optimizer.zero_grad()           \n",
    "            \n",
    "            # backpropagation, compute gradients \n",
    "            loss.backward()    \n",
    "            # apply gradients             \n",
    "            optimizer.step()                \n",
    "            \n",
    "            if (i+1) % 100 == 0:\n",
    "                print ('Epoch [{}/{}], Step [{}/{}], Loss: {:.4f}' \n",
    "                       .format(epoch + 1, num_epochs, i + 1, total_step, loss.item()))\n",
    "                pass\n",
    "        \n",
    "        pass\n",
    "    \n",
    "    \n",
    "    pass\n",
    "    return loss_history\n"
   ]
  },
  {
   "cell_type": "code",
   "execution_count": 192,
   "metadata": {},
   "outputs": [
    {
     "name": "stdout",
     "output_type": "stream",
     "text": [
      "Epoch [1/10], Step [100/600], Loss: 0.0924\n",
      "Epoch [1/10], Step [200/600], Loss: 0.1006\n",
      "Epoch [1/10], Step [300/600], Loss: 0.0434\n",
      "Epoch [1/10], Step [400/600], Loss: 0.1149\n",
      "Epoch [1/10], Step [500/600], Loss: 0.0365\n",
      "Epoch [1/10], Step [600/600], Loss: 0.0480\n",
      "Epoch [2/10], Step [100/600], Loss: 0.0226\n",
      "Epoch [2/10], Step [200/600], Loss: 0.0162\n",
      "Epoch [2/10], Step [300/600], Loss: 0.0025\n",
      "Epoch [2/10], Step [400/600], Loss: 0.0503\n",
      "Epoch [2/10], Step [500/600], Loss: 0.1727\n",
      "Epoch [2/10], Step [600/600], Loss: 0.1837\n",
      "Epoch [3/10], Step [100/600], Loss: 0.0432\n",
      "Epoch [3/10], Step [200/600], Loss: 0.0350\n",
      "Epoch [3/10], Step [300/600], Loss: 0.0501\n",
      "Epoch [3/10], Step [400/600], Loss: 0.0247\n",
      "Epoch [3/10], Step [500/600], Loss: 0.0675\n",
      "Epoch [3/10], Step [600/600], Loss: 0.0236\n",
      "Epoch [4/10], Step [100/600], Loss: 0.0351\n",
      "Epoch [4/10], Step [200/600], Loss: 0.0108\n",
      "Epoch [4/10], Step [300/600], Loss: 0.0027\n",
      "Epoch [4/10], Step [400/600], Loss: 0.0323\n",
      "Epoch [4/10], Step [500/600], Loss: 0.0608\n",
      "Epoch [4/10], Step [600/600], Loss: 0.0093\n",
      "Epoch [5/10], Step [100/600], Loss: 0.0699\n",
      "Epoch [5/10], Step [200/600], Loss: 0.0100\n",
      "Epoch [5/10], Step [300/600], Loss: 0.0012\n",
      "Epoch [5/10], Step [400/600], Loss: 0.0687\n",
      "Epoch [5/10], Step [500/600], Loss: 0.0181\n",
      "Epoch [5/10], Step [600/600], Loss: 0.0038\n",
      "Epoch [6/10], Step [100/600], Loss: 0.0314\n",
      "Epoch [6/10], Step [200/600], Loss: 0.1173\n",
      "Epoch [6/10], Step [300/600], Loss: 0.0593\n",
      "Epoch [6/10], Step [400/600], Loss: 0.0086\n",
      "Epoch [6/10], Step [500/600], Loss: 0.0152\n",
      "Epoch [6/10], Step [600/600], Loss: 0.0366\n",
      "Epoch [7/10], Step [100/600], Loss: 0.0201\n",
      "Epoch [7/10], Step [200/600], Loss: 0.0137\n",
      "Epoch [7/10], Step [300/600], Loss: 0.0266\n",
      "Epoch [7/10], Step [400/600], Loss: 0.0879\n",
      "Epoch [7/10], Step [500/600], Loss: 0.0088\n",
      "Epoch [7/10], Step [600/600], Loss: 0.0506\n",
      "Epoch [8/10], Step [100/600], Loss: 0.1134\n",
      "Epoch [8/10], Step [200/600], Loss: 0.1292\n",
      "Epoch [8/10], Step [300/600], Loss: 0.0402\n",
      "Epoch [8/10], Step [400/600], Loss: 0.0046\n",
      "Epoch [8/10], Step [500/600], Loss: 0.0212\n",
      "Epoch [8/10], Step [600/600], Loss: 0.0514\n",
      "Epoch [9/10], Step [100/600], Loss: 0.0044\n",
      "Epoch [9/10], Step [200/600], Loss: 0.0803\n",
      "Epoch [9/10], Step [300/600], Loss: 0.0114\n",
      "Epoch [9/10], Step [400/600], Loss: 0.0022\n",
      "Epoch [9/10], Step [500/600], Loss: 0.0270\n",
      "Epoch [9/10], Step [600/600], Loss: 0.0913\n",
      "Epoch [10/10], Step [100/600], Loss: 0.0023\n",
      "Epoch [10/10], Step [200/600], Loss: 0.1437\n",
      "Epoch [10/10], Step [300/600], Loss: 0.0210\n",
      "Epoch [10/10], Step [400/600], Loss: 0.0033\n",
      "Epoch [10/10], Step [500/600], Loss: 0.0030\n",
      "Epoch [10/10], Step [600/600], Loss: 0.0590\n"
     ]
    }
   ],
   "source": [
    "loss_history = train(num_epochs, cnn, loaders)"
   ]
  },
  {
   "cell_type": "code",
   "execution_count": 193,
   "metadata": {},
   "outputs": [
    {
     "data": {
      "image/png": "[encoded data removed]",
      "text/plain": [
       "<Figure size 640x480 with 1 Axes>"
      ]
     },
     "metadata": {},
     "output_type": "display_data"
    }
   ],
   "source": [
    "# plot loss_history\n",
    "plt.plot(loss_history)\n",
    "plt.xlabel('Epoch')\n",
    "plt.ylabel('Loss')\n",
    "plt.show()"
   ]
  },
  {
   "cell_type": "code",
   "execution_count": 194,
   "metadata": {},
   "outputs": [],
   "source": [
    "def test(model):\n",
    "    # Test the model\n",
    "    model.eval()\n",
    "    with torch.no_grad():\n",
    "        correct = 0\n",
    "        total = 0\n",
    "        for images, labels in loaders['test']:\n",
    "            test_output, last_layer = model(images)\n",
    "            pred_y = torch.max(test_output, 1)[1].data.squeeze()\n",
    "            accuracy = (pred_y == labels).sum().item() / float(labels.size(0))\n",
    "            pass\n",
    "    print('Test Accuracy of the model on the 10000 test images: %.2f' % accuracy)\n",
    "    \n",
    "    pass"
   ]
  },
  {
   "cell_type": "code",
   "execution_count": 195,
   "metadata": {},
   "outputs": [
    {
     "name": "stdout",
     "output_type": "stream",
     "text": [
      "Test Accuracy of the model on the 10000 test images: 1.00\n"
     ]
    }
   ],
   "source": [
    "test(cnn)"
   ]
  },
  {
   "cell_type": "code",
   "execution_count": 196,
   "metadata": {},
   "outputs": [],
   "source": [
    "from torchvision.transforms import Compose, RandomRotation\n",
    "from torchvision.transforms import Lambda\n",
    "import torchvision.transforms.functional as TF\n",
    "\n",
    "# Defining the transformation\n",
    "transform = Compose([\n",
    "    Lambda(lambda img: TF.rotate(img, 90)), # Rotate images by exactly 90 degrees\n",
    "    ToTensor()                              # Convert PIL image to PyTorch tensor\n",
    "])\n",
    "\n",
    "# Applying the transformation to train and test data\n",
    "train_data = datasets.MNIST(\n",
    "    root = 'data',\n",
    "    train = True,                         \n",
    "    transform = transform, \n",
    "    download = True,            \n",
    ")\n",
    "\n",
    "test_data = datasets.MNIST(\n",
    "    root = 'data', \n",
    "    train = False, \n",
    "    transform = transform\n",
    ")"
   ]
  },
  {
   "cell_type": "code",
   "execution_count": 197,
   "metadata": {},
   "outputs": [
    {
     "data": {
      "image/png": "[encoded data removed]",
      "text/plain": [
       "<Figure size 640x480 with 1 Axes>"
      ]
     },
     "metadata": {},
     "output_type": "display_data"
    }
   ],
   "source": [
    "import matplotlib.pyplot as plt\n",
    "\n",
    "# Create a DataLoader for the train_data with the transformation\n",
    "train_loader = torch.utils.data.DataLoader(train_data, batch_size=1, shuffle=True)\n",
    "\n",
    "# Get a single batch (in this case, one image) from the DataLoader\n",
    "images, labels = next(iter(train_loader))\n",
    "\n",
    "\n",
    "# Since the image is now a tensor, convert it to a NumPy array\n",
    "image = images[0].numpy()\n",
    "\n",
    "# The image will be in shape (1, 28, 28), so you'll need to reshape it to (28, 28)\n",
    "image = image.reshape(28, 28)\n",
    "\n",
    "# Now you can use plt.imshow to display the image\n",
    "plt.imshow(image, cmap='gray')\n",
    "plt.title('%i' % labels[0])\n",
    "plt.show()"
   ]
  },
  {
   "cell_type": "code",
   "execution_count": 198,
   "metadata": {},
   "outputs": [],
   "source": [
    "loaders = {\n",
    "    'train' : torch.utils.data.DataLoader(train_data, \n",
    "                                          batch_size=100, \n",
    "                                          shuffle=True, \n",
    "                                          num_workers=0),\n",
    "    \n",
    "    'test'  : torch.utils.data.DataLoader(test_data, \n",
    "                                          batch_size=100, \n",
    "                                          shuffle=True, \n",
    "                                          num_workers=0),\n",
    "}"
   ]
  },
  {
   "cell_type": "code",
   "execution_count": 199,
   "metadata": {},
   "outputs": [],
   "source": [
    "cnn2 = CNN()\n",
    "loss_func = nn.CrossEntropyLoss() \n",
    "optimizer = torch.optim.Adam(cnn2.parameters(), lr=0.01)"
   ]
  },
  {
   "cell_type": "code",
   "execution_count": 200,
   "metadata": {},
   "outputs": [
    {
     "name": "stdout",
     "output_type": "stream",
     "text": [
      "Epoch [1/10], Step [100/600], Loss: 0.2106\n",
      "Epoch [1/10], Step [200/600], Loss: 0.0346\n",
      "Epoch [1/10], Step [300/600], Loss: 0.1598\n",
      "Epoch [1/10], Step [400/600], Loss: 0.0479\n",
      "Epoch [1/10], Step [500/600], Loss: 0.0349\n",
      "Epoch [1/10], Step [600/600], Loss: 0.0402\n",
      "Epoch [2/10], Step [100/600], Loss: 0.0139\n",
      "Epoch [2/10], Step [200/600], Loss: 0.0546\n",
      "Epoch [2/10], Step [300/600], Loss: 0.0660\n",
      "Epoch [2/10], Step [400/600], Loss: 0.0675\n",
      "Epoch [2/10], Step [500/600], Loss: 0.0855\n",
      "Epoch [2/10], Step [600/600], Loss: 0.0305\n",
      "Epoch [3/10], Step [100/600], Loss: 0.0698\n",
      "Epoch [3/10], Step [200/600], Loss: 0.1274\n",
      "Epoch [3/10], Step [300/600], Loss: 0.1283\n",
      "Epoch [3/10], Step [400/600], Loss: 0.0747\n",
      "Epoch [3/10], Step [500/600], Loss: 0.0466\n",
      "Epoch [3/10], Step [600/600], Loss: 0.0132\n",
      "Epoch [4/10], Step [100/600], Loss: 0.0647\n",
      "Epoch [4/10], Step [200/600], Loss: 0.2275\n",
      "Epoch [4/10], Step [300/600], Loss: 0.0492\n",
      "Epoch [4/10], Step [400/600], Loss: 0.0804\n",
      "Epoch [4/10], Step [500/600], Loss: 0.0460\n",
      "Epoch [4/10], Step [600/600], Loss: 0.0192\n",
      "Epoch [5/10], Step [100/600], Loss: 0.0097\n",
      "Epoch [5/10], Step [200/600], Loss: 0.0241\n",
      "Epoch [5/10], Step [300/600], Loss: 0.0607\n",
      "Epoch [5/10], Step [400/600], Loss: 0.0285\n",
      "Epoch [5/10], Step [500/600], Loss: 0.0694\n",
      "Epoch [5/10], Step [600/600], Loss: 0.0289\n",
      "Epoch [6/10], Step [100/600], Loss: 0.0118\n",
      "Epoch [6/10], Step [200/600], Loss: 0.0357\n",
      "Epoch [6/10], Step [300/600], Loss: 0.0905\n",
      "Epoch [6/10], Step [400/600], Loss: 0.0817\n",
      "Epoch [6/10], Step [500/600], Loss: 0.0159\n",
      "Epoch [6/10], Step [600/600], Loss: 0.0232\n",
      "Epoch [7/10], Step [100/600], Loss: 0.0020\n",
      "Epoch [7/10], Step [200/600], Loss: 0.0309\n",
      "Epoch [7/10], Step [300/600], Loss: 0.1193\n",
      "Epoch [7/10], Step [400/600], Loss: 0.0708\n",
      "Epoch [7/10], Step [500/600], Loss: 0.1043\n",
      "Epoch [7/10], Step [600/600], Loss: 0.0245\n",
      "Epoch [8/10], Step [100/600], Loss: 0.0781\n",
      "Epoch [8/10], Step [200/600], Loss: 0.1098\n",
      "Epoch [8/10], Step [300/600], Loss: 0.0190\n",
      "Epoch [8/10], Step [400/600], Loss: 0.0250\n",
      "Epoch [8/10], Step [500/600], Loss: 0.0476\n",
      "Epoch [8/10], Step [600/600], Loss: 0.0534\n",
      "Epoch [9/10], Step [100/600], Loss: 0.0670\n",
      "Epoch [9/10], Step [200/600], Loss: 0.0140\n",
      "Epoch [9/10], Step [300/600], Loss: 0.1198\n",
      "Epoch [9/10], Step [400/600], Loss: 0.0634\n",
      "Epoch [9/10], Step [500/600], Loss: 0.2043\n",
      "Epoch [9/10], Step [600/600], Loss: 0.0383\n",
      "Epoch [10/10], Step [100/600], Loss: 0.0078\n",
      "Epoch [10/10], Step [200/600], Loss: 0.0319\n",
      "Epoch [10/10], Step [300/600], Loss: 0.0023\n",
      "Epoch [10/10], Step [400/600], Loss: 0.0110\n",
      "Epoch [10/10], Step [500/600], Loss: 0.0292\n",
      "Epoch [10/10], Step [600/600], Loss: 0.0124\n"
     ]
    }
   ],
   "source": [
    "# train rotated data\n",
    "loss_history1 = train(num_epochs, cnn2, loaders)"
   ]
  },
  {
   "cell_type": "code",
   "execution_count": 201,
   "metadata": {},
   "outputs": [
    {
     "data": {
      "image/png": "[encoded data removed]",
      "text/plain": [
       "<Figure size 640x480 with 1 Axes>"
      ]
     },
     "metadata": {},
     "output_type": "display_data"
    }
   ],
   "source": [
    "# plot loss_history\n",
    "plt.plot(loss_history1)\n",
    "plt.xlabel('Epoch')\n",
    "plt.ylabel('Loss')\n",
    "plt.show()"
   ]
  },
  {
   "cell_type": "code",
   "execution_count": 202,
   "metadata": {},
   "outputs": [],
   "source": [
    "def test_train(cnn):\n",
    "    # Test the model\n",
    "    cnn.eval()\n",
    "    with torch.no_grad():\n",
    "        correct = 0\n",
    "        total = 0\n",
    "        for images, labels in loaders['train']:\n",
    "            test_output, last_layer = cnn(images)\n",
    "            pred_y = torch.max(test_output, 1)[1].data.squeeze()\n",
    "            accuracy = (pred_y == labels).sum().item() / float(labels.size(0))\n",
    "            pass\n",
    "    print('Test Accuracy of the model on the train images: %.2f' % accuracy)\n",
    "    \n",
    "    pass\n",
    "\n"
   ]
  },
  {
   "cell_type": "code",
   "execution_count": 203,
   "metadata": {},
   "outputs": [
    {
     "name": "stdout",
     "output_type": "stream",
     "text": [
      "Test Accuracy of the model on the train images: 0.98\n"
     ]
    }
   ],
   "source": [
    "test_train(cnn2)"
   ]
  },
  {
   "cell_type": "code",
   "execution_count": 204,
   "metadata": {},
   "outputs": [
    {
     "name": "stdout",
     "output_type": "stream",
     "text": [
      "Test Accuracy of the model on the 10000 test images: 0.97\n"
     ]
    }
   ],
   "source": [
    "test(cnn2)"
   ]
  }
 ],
 "metadata": {
  "kernelspec": {
   "display_name": "Python 3",
   "language": "python",
   "name": "python3"
  },
  "language_info": {
   "codemirror_mode": {
    "name": "ipython",
    "version": 3
   },
   "file_extension": ".py",
   "mimetype": "text/x-python",
   "name": "python",
   "nbconvert_exporter": "python",
   "pygments_lexer": "ipython3",
   "version": "3.11.4"
  },
  "orig_nbformat": 4
 },
 "nbformat": 4,
 "nbformat_minor": 2
}
